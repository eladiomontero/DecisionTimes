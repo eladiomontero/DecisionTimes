{
 "cells": [
  {
   "cell_type": "code",
   "execution_count": 40,
   "metadata": {},
   "outputs": [
    {
     "name": "stderr",
     "output_type": "stream",
     "text": [
      "/Users/eladiomontero/opt/anaconda3/envs/decTimesEnv/lib/python2.7/site-packages/IPython/parallel.py:13: ShimWarning: The `IPython.parallel` package has been deprecated since IPython 4.0. You should import from ipyparallel instead.\n",
      "  \"You should import from ipyparallel instead.\", ShimWarning)\n"
     ]
    }
   ],
   "source": [
    "#The goal of this notebook is to analyse the data collected in Madrid that was used for the paper of Jelena \n",
    "#\"Social experiments in the mesoscale: Humans playing a spatial Prisoner's Dilemma\" PLoS ONE (in print)\n",
    "#The data originally was given in a HEX format, meaning that the data has to be converted\n",
    "#Extensive data cleaning and formatting ahead.\n",
    "\n",
    "\n",
    "#In the experiment, volunteers played a 2x2 PD game with each of their eight neighbors (Moore neighborhood) taking only one action, either to cooperate (C) or to defect (D), the action being the same against all the opponents.\n",
    "\n",
    "#Two experiment were conducted and the results were stored as series of Cs and Ds, separately for each of 169 users. These result were then compressed using hexadecimal notation. We coded any C as 1 and any D as 0. For instance, if someone played (only 12 rounds) CCDCCDCDDDCD will be, in binary notation, 110110100010 and in hexadecimal DA2. As the number of rounds are 47 and 58, therefore we added 1 and 2 zeros respectively at the end of the binary number, so as to make the number of binary digits a multiple of 4 and thus converted into hexadecimal straight away. \n",
    "\n",
    "#The other information needed to be stored are the positions of the players. This we stored as a position in the list. First hexadecimal number are the actions of the player on the position (1,1) in the lattice, the second is of the player on the position (1,2), the 14th number is of the player on the position (2,1) etc.\n",
    "\n",
    "#Therefore, there are two files data_exp1.txt and data_exp2.txt with the actions of the players in the first experiment and second experiment respectively. Each contains the list of hexadecimal numbers with each number being the actions of the players and the positions in the list representing the position in the lattice. \n",
    "import pandas as pd\n",
    "import hddm\n",
    "import csv\n"
   ]
  },
  {
   "cell_type": "code",
   "execution_count": 21,
   "metadata": {},
   "outputs": [],
   "source": [
    "def hexToBin(hex_num):\n",
    "    hexTobin_map = {\n",
    "        \"0\":\"0000\",\n",
    "        \"1\":\"0001\",\n",
    "        \"2\":\"0010\",\n",
    "        \"3\":\"0011\",\n",
    "        \"4\":\"0100\",\n",
    "        \"5\":\"0101\",\n",
    "        \"6\":\"0110\",    \n",
    "        \"7\":\"0111\",\n",
    "        \"8\":\"1000\",\n",
    "        \"9\":\"1001\",\n",
    "        \"A\":\"1010\",\n",
    "        \"B\":\"1011\",\n",
    "        \"C\":\"1100\",\n",
    "        \"D\":\"1101\",\n",
    "        \"E\":\"1110\",\n",
    "        \"F\":\"1111\",\n",
    "    }\n",
    "    return \"\".join(hexTobin_map[i] for i in hex_num)"
   ]
  },
  {
   "cell_type": "code",
   "execution_count": 31,
   "metadata": {},
   "outputs": [],
   "source": [
    "def readFiles(url):\n",
    "    for u in url:\n",
    "        count = 0\n",
    "        with open(u) as f:\n",
    "            for line in f:\n",
    "                hexToBin(line.strip())\n",
    "                count += 1\n",
    "        print count"
   ]
  },
  {
   "cell_type": "code",
   "execution_count": 33,
   "metadata": {},
   "outputs": [
    {
     "name": "stdout",
     "output_type": "stream",
     "text": [
      "169\n",
      "169\n",
      "169\n"
     ]
    }
   ],
   "source": [
    "readFiles([\"./raw data/data_exp1.txt\", \"./raw data/data_exp2.txt\", \"./raw data/control/data_control.txt\"])"
   ]
  },
  {
   "cell_type": "code",
   "execution_count": 50,
   "metadata": {},
   "outputs": [
    {
     "data": {
      "text/plain": [
       "'110000011000010000010100000000000000000000000000'"
      ]
     },
     "execution_count": 50,
     "metadata": {},
     "output_type": "execute_result"
    }
   ],
   "source": [
    "hexToBin(\"C18414000000\")"
   ]
  },
  {
   "cell_type": "code",
   "execution_count": 41,
   "metadata": {},
   "outputs": [],
   "source": [
    "reDict = {'D':0.,'C':1.}\n",
    "\n",
    "def loadData():\n",
    "\n",
    "\t\"\"\"EXP1\"\"\" #with context\n",
    "\t#Load original file\n",
    "\tdata = []\n",
    "\twith open('./raw data/times_exp1_rand.dat', 'r') as csvfile:\n",
    "\t\tcsvreader = csv.reader(csvfile, delimiter=',')\n",
    "\t\tfor row in csvreader:\n",
    "\t\t\tdata.append((row[0],row[1],row[3],row[5],row[6].strip(),row[2]))\n",
    "\t#Create a file formatted for hddm\n",
    "\twith open('times_exp1_rand_hddm.csv', 'w') as outFile:\n",
    "\t\toutFile.write('userid,rt,response,round,context,strategy\\n')\n",
    "\t\tfor i in range(len(data)):\n",
    "\t\t\td = data[i]\n",
    "\t\t\taction = reDict[d[1].strip()]\n",
    "\t\t\troundN = int(d[2])\n",
    "\t\t\tif roundN > 1:\n",
    "\t\t\t\tcontext = contextNext #context is that of the previous round\n",
    "\t\t\telse:\n",
    "\t\t\t\tcontext = float('nan');\n",
    "\t\t\tcontextNext = float(d[3])\n",
    "\t\t\trt = float(d[0])/1000 #seconds\n",
    "\t\t\tif rt > 0 and rt< 30:\n",
    "\t\t\t\toutFile.write('%3d,%5.2f,%2.0f,%2d,%2.0f,%s\\n'%(int(d[5]),rt,action,roundN,context,d[4]))\n",
    "\t#Load hddm format\n",
    "\tdata1 = hddm.load_csv('times_exp1_rand_hddm.csv')\n",
    "\tdata1 = hddm.utils.flip_errors(data1)\n",
    "\n",
    "\t\"\"\"CONTROL\"\"\"\n",
    "\t#Load original file\n",
    "\tdata = []\n",
    "\twith open('./raw data/times_control_users.dat', 'r') as csvfile:\n",
    "\t\tcsvreader = csv.reader(csvfile, delimiter=',')\n",
    "\t\tfor row in csvreader:\n",
    "\t\t\tdata.append((row[0],row[1],row[3],row[2]))\n",
    "\t#Create a file formatted for hddm\n",
    "\twith open('times_expC_rand_hddm.csv', 'w') as outFile:\n",
    "\t\toutFile.write('userid,rt,response,round\\n')\n",
    "\t\tfor d in data:\n",
    "\t\t\trt = float(d[0])/1000; #seconds\n",
    "\t\t\tif rt > 0 and rt< 30:\n",
    "\t\t\t\toutFile.write('%3d,%8.6f,%5.3f,%2d\\n'%(int(d[3]),rt,reDict[d[1].strip()],int(d[2])))\n",
    "\t#Load hddm format\n",
    "\tdataC = hddm.load_csv('times_expC_rand_hddm.csv')\n",
    "\tdataC = hddm.utils.flip_errors(dataC)\n",
    "\n",
    "\t\"\"\"EXP 2\"\"\" #with context\n",
    "\t#Load original file\n",
    "\tdata = []\n",
    "\twith open('./raw data/times_exp2_rand.dat', 'r') as csvfile:\n",
    "\t\tcsvreader = csv.reader(csvfile, delimiter=',')\n",
    "\t\tfor row in csvreader:\n",
    "\t\t\tdata.append((row[0],row[1],row[3],row[5],row[6].strip(),row[2]))\n",
    "\t#Create a file formatted for hddm\n",
    "\twith open('times_exp2_rand_hddm.csv', 'w') as outFile:\n",
    "\t\toutFile.write('userid,rt,response,round,context,strategy\\n')\n",
    "\t\tfor i in range(len(data)):\n",
    "\t\t\td = data[i]\n",
    "\t\t\taction = reDict[d[1].strip()]\n",
    "\t\t\troundN = int(d[2])\n",
    "\t\t\tif roundN > 1:\n",
    "\t\t\t\tcontext = contextNext #context is that of the previous round\n",
    "\t\t\telse:\n",
    "\t\t\t\tcontext = float('nan');\n",
    "\t\t\tcontextNext = float(d[3])\n",
    "\t\t\trt = float(d[0])/1000; #seconds\n",
    "\t\t\tif rt > 0 and rt< 30:\n",
    "\t\t\t\toutFile.write('%3d,%5.2f,%2.0f,%2d,%2.0f,%s\\n'%(int(d[5]),rt,action,roundN,context,d[4]))\n",
    "\t#Load hddm format\n",
    "\tdata2 = hddm.load_csv('times_exp2_rand_hddm.csv')\n",
    "\tdata2 = hddm.utils.flip_errors(data2)\n",
    "\n",
    "\t\"\"\"PAIRWISE RECIPROCITY\"\"\"\n",
    "\t#Load original file\n",
    "\tdata = []\n",
    "\twith open('./raw data/weakPD.dat', 'r') as csvfile:\n",
    "\t\tcsvreader = csv.reader(csvfile, delimiter=' ')\n",
    "\t\tfor row in csvreader:\n",
    "\t\t\tdata.append((row[0],row[1],row[3],row[2]))\n",
    "\t#Create a file formatted for hddm\n",
    "\twith open('times_expW_rand_hddm.csv', 'w') as outFile:\n",
    "\t\toutFile.write('userid,rt,response,round\\n')\n",
    "\t\tfor d in data:\n",
    "\t\t\trt = float(d[0])/1000; #seconds\n",
    "\t\t\tif rt > 0 and rt< 30:\n",
    "\t\t\t\toutFile.write('%2d,%8.6f,%5.3f,%2d\\n'%(int(d[3]),rt,reDict[d[1].strip()],int(d[2])))\n",
    "\t#Load hddm format\n",
    "\tdataW = hddm.load_csv('times_expW_rand_hddm.csv')\n",
    "\tdataW = hddm.utils.flip_errors(dataW)\n",
    "\n",
    "\treturn (data1,dataC,data2,dataW)"
   ]
  },
  {
   "cell_type": "code",
   "execution_count": 43,
   "metadata": {},
   "outputs": [],
   "source": [
    "data1,dataC,data2,dataW = loadData()"
   ]
  },
  {
   "cell_type": "code",
   "execution_count": 47,
   "metadata": {},
   "outputs": [
    {
     "data": {
      "text/plain": [
       "array(['MCC', 'PD', 'PC'], dtype=object)"
      ]
     },
     "execution_count": 47,
     "metadata": {},
     "output_type": "execute_result"
    }
   ],
   "source": [
    "data1.strategy.unique()\n",
    "\n",
    "#Pure defectors: PD\n",
    "#Pure cooperators: PC\n",
    "#Moody conditional cooperators: MCC"
   ]
  },
  {
   "cell_type": "code",
   "execution_count": 56,
   "metadata": {},
   "outputs": [
    {
     "data": {
      "text/plain": [
       "array([nan,  4.,  3.,  1.,  2.,  0.,  6.,  5.,  7.])"
      ]
     },
     "execution_count": 56,
     "metadata": {},
     "output_type": "execute_result"
    }
   ],
   "source": [
    "data1.context.unique()"
   ]
  },
  {
   "cell_type": "code",
   "execution_count": 51,
   "metadata": {},
   "outputs": [
    {
     "data": {
      "text/plain": [
       "'110000011000010000010100000000000000000000000000'"
      ]
     },
     "execution_count": 51,
     "metadata": {},
     "output_type": "execute_result"
    }
   ],
   "source": [
    "hexToBin(\"C18414000000\")"
   ]
  },
  {
   "cell_type": "code",
   "execution_count": null,
   "metadata": {},
   "outputs": [],
   "source": []
  }
 ],
 "metadata": {
  "kernelspec": {
   "display_name": "decTimesEnv",
   "language": "python",
   "name": "dectimesenv"
  },
  "language_info": {
   "codemirror_mode": {
    "name": "ipython",
    "version": 2
   },
   "file_extension": ".py",
   "mimetype": "text/x-python",
   "name": "python",
   "nbconvert_exporter": "python",
   "pygments_lexer": "ipython2",
   "version": "2.7.17"
  }
 },
 "nbformat": 4,
 "nbformat_minor": 2
}
