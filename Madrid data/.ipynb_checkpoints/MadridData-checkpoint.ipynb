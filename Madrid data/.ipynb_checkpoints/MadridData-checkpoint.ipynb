{
 "cells": [
  {
   "cell_type": "code",
   "execution_count": 91,
   "metadata": {},
   "outputs": [],
   "source": [
    "#The goal of this notebook is to analyse the data collected in Madrid that was used for the paper of Jelena \n",
    "#\"Social experiments in the mesoscale: Humans playing a spatial Prisoner's Dilemma\" PLoS ONE (in print)\n",
    "#The data originally was given in a HEX format, meaning that the data has to be converted\n",
    "#Extensive data cleaning and formatting ahead.\n",
    "\n",
    "\n",
    "#In the experiment, volunteers played a 2x2 PD game with each of their eight neighbors (Moore neighborhood) taking only one action, either to cooperate (C) or to defect (D), the action being the same against all the opponents.\n",
    "\n",
    "#Two experiment were conducted and the results were stored as series of Cs and Ds, separately for each of 169 users. These result were then compressed using hexadecimal notation. We coded any C as 1 and any D as 0. For instance, if someone played (only 12 rounds) CCDCCDCDDDCD will be, in binary notation, 110110100010 and in hexadecimal DA2. As the number of rounds are 47 and 58, therefore we added 1 and 2 zeros respectively at the end of the binary number, so as to make the number of binary digits a multiple of 4 and thus converted into hexadecimal straight away. \n",
    "\n",
    "#The other information needed to be stored are the positions of the players. This we stored as a position in the list. First hexadecimal number are the actions of the player on the position (1,1) in the lattice, the second is of the player on the position (1,2), the 14th number is of the player on the position (2,1) etc.\n",
    "\n",
    "#Therefore, there are two files data_exp1.txt and data_exp2.txt with the actions of the players in the first experiment and second experiment respectively. Each contains the list of hexadecimal numbers with each number being the actions of the players and the positions in the list representing the position in the lattice. \n",
    "import pandas as pd\n",
    "import hddm\n",
    "import csv\n",
    "import matplotlib.pyplot as plt\n",
    "import HDDMmodelMaker as ddm\n"
   ]
  },
  {
   "cell_type": "code",
   "execution_count": 21,
   "metadata": {},
   "outputs": [],
   "source": [
    "def hexToBin(hex_num):\n",
    "    hexTobin_map = {\n",
    "        \"0\":\"0000\",\n",
    "        \"1\":\"0001\",\n",
    "        \"2\":\"0010\",\n",
    "        \"3\":\"0011\",\n",
    "        \"4\":\"0100\",\n",
    "        \"5\":\"0101\",\n",
    "        \"6\":\"0110\",    \n",
    "        \"7\":\"0111\",\n",
    "        \"8\":\"1000\",\n",
    "        \"9\":\"1001\",\n",
    "        \"A\":\"1010\",\n",
    "        \"B\":\"1011\",\n",
    "        \"C\":\"1100\",\n",
    "        \"D\":\"1101\",\n",
    "        \"E\":\"1110\",\n",
    "        \"F\":\"1111\",\n",
    "    }\n",
    "    return \"\".join(hexTobin_map[i] for i in hex_num)"
   ]
  },
  {
   "cell_type": "code",
   "execution_count": 31,
   "metadata": {},
   "outputs": [],
   "source": [
    "def readFiles(url):\n",
    "    for u in url:\n",
    "        count = 0\n",
    "        with open(u) as f:\n",
    "            for line in f:\n",
    "                hexToBin(line.strip())\n",
    "                count += 1\n",
    "        print count"
   ]
  },
  {
   "cell_type": "code",
   "execution_count": 33,
   "metadata": {},
   "outputs": [
    {
     "name": "stdout",
     "output_type": "stream",
     "text": [
      "169\n",
      "169\n",
      "169\n"
     ]
    }
   ],
   "source": [
    "readFiles([\"./raw data/data_exp1.txt\", \"./raw data/data_exp2.txt\", \"./raw data/control/data_control.txt\"])"
   ]
  },
  {
   "cell_type": "code",
   "execution_count": null,
   "metadata": {},
   "outputs": [],
   "source": []
  },
  {
   "cell_type": "code",
   "execution_count": 41,
   "metadata": {},
   "outputs": [],
   "source": [
    "reDict = {'D':0.,'C':1.}\n",
    "\n",
    "def loadData():\n",
    "\n",
    "\t\"\"\"EXP1\"\"\" #with context\n",
    "\t#Load original file\n",
    "\tdata = []\n",
    "\twith open('./raw data/times_exp1_rand.dat', 'r') as csvfile:\n",
    "\t\tcsvreader = csv.reader(csvfile, delimiter=',')\n",
    "\t\tfor row in csvreader:\n",
    "\t\t\tdata.append((row[0],row[1],row[3],row[5],row[6].strip(),row[2]))\n",
    "\t#Create a file formatted for hddm\n",
    "\twith open('times_exp1_rand_hddm.csv', 'w') as outFile:\n",
    "\t\toutFile.write('userid,rt,response,round,context,strategy\\n')\n",
    "\t\tfor i in range(len(data)):\n",
    "\t\t\td = data[i]\n",
    "\t\t\taction = reDict[d[1].strip()]\n",
    "\t\t\troundN = int(d[2])\n",
    "\t\t\tif roundN > 1:\n",
    "\t\t\t\tcontext = contextNext #context is that of the previous round\n",
    "\t\t\telse:\n",
    "\t\t\t\tcontext = float('nan');\n",
    "\t\t\tcontextNext = float(d[3])\n",
    "\t\t\trt = float(d[0])/1000 #seconds\n",
    "\t\t\tif rt > 0 and rt< 30:\n",
    "\t\t\t\toutFile.write('%3d,%5.2f,%2.0f,%2d,%2.0f,%s\\n'%(int(d[5]),rt,action,roundN,context,d[4]))\n",
    "\t#Load hddm format\n",
    "\tdata1 = hddm.load_csv('times_exp1_rand_hddm.csv')\n",
    "\tdata1 = hddm.utils.flip_errors(data1)\n",
    "\n",
    "\t\"\"\"CONTROL\"\"\"\n",
    "\t#Load original file\n",
    "\tdata = []\n",
    "\twith open('./raw data/times_control_users.dat', 'r') as csvfile:\n",
    "\t\tcsvreader = csv.reader(csvfile, delimiter=',')\n",
    "\t\tfor row in csvreader:\n",
    "\t\t\tdata.append((row[0],row[1],row[3],row[2]))\n",
    "\t#Create a file formatted for hddm\n",
    "\twith open('times_expC_rand_hddm.csv', 'w') as outFile:\n",
    "\t\toutFile.write('userid,rt,response,round\\n')\n",
    "\t\tfor d in data:\n",
    "\t\t\trt = float(d[0])/1000; #seconds\n",
    "\t\t\tif rt > 0 and rt< 30:\n",
    "\t\t\t\toutFile.write('%3d,%8.6f,%5.3f,%2d\\n'%(int(d[3]),rt,reDict[d[1].strip()],int(d[2])))\n",
    "\t#Load hddm format\n",
    "\tdataC = hddm.load_csv('times_expC_rand_hddm.csv')\n",
    "\tdataC = hddm.utils.flip_errors(dataC)\n",
    "\n",
    "\t\"\"\"EXP 2\"\"\" #with context\n",
    "\t#Load original file\n",
    "\tdata = []\n",
    "\twith open('./raw data/times_exp2_rand.dat', 'r') as csvfile:\n",
    "\t\tcsvreader = csv.reader(csvfile, delimiter=',')\n",
    "\t\tfor row in csvreader:\n",
    "\t\t\tdata.append((row[0],row[1],row[3],row[5],row[6].strip(),row[2]))\n",
    "\t#Create a file formatted for hddm\n",
    "\twith open('times_exp2_rand_hddm.csv', 'w') as outFile:\n",
    "\t\toutFile.write('userid,rt,response,round,context,strategy\\n')\n",
    "\t\tfor i in range(len(data)):\n",
    "\t\t\td = data[i]\n",
    "\t\t\taction = reDict[d[1].strip()]\n",
    "\t\t\troundN = int(d[2])\n",
    "\t\t\tif roundN > 1:\n",
    "\t\t\t\tcontext = contextNext #context is that of the previous round\n",
    "\t\t\telse:\n",
    "\t\t\t\tcontext = float('nan');\n",
    "\t\t\tcontextNext = float(d[3])\n",
    "\t\t\trt = float(d[0])/1000; #seconds\n",
    "\t\t\tif rt > 0 and rt< 30:\n",
    "\t\t\t\toutFile.write('%3d,%5.2f,%2.0f,%2d,%2.0f,%s\\n'%(int(d[5]),rt,action,roundN,context,d[4]))\n",
    "\t#Load hddm format\n",
    "\tdata2 = hddm.load_csv('times_exp2_rand_hddm.csv')\n",
    "\tdata2 = hddm.utils.flip_errors(data2)\n",
    "\n",
    "\t\"\"\"PAIRWISE RECIPROCITY\"\"\"\n",
    "\t#Load original file\n",
    "\tdata = []\n",
    "\twith open('./raw data/weakPD.dat', 'r') as csvfile:\n",
    "\t\tcsvreader = csv.reader(csvfile, delimiter=' ')\n",
    "\t\tfor row in csvreader:\n",
    "\t\t\tdata.append((row[0],row[1],row[3],row[2]))\n",
    "\t#Create a file formatted for hddm\n",
    "\twith open('times_expW_rand_hddm.csv', 'w') as outFile:\n",
    "\t\toutFile.write('userid,rt,response,round\\n')\n",
    "\t\tfor d in data:\n",
    "\t\t\trt = float(d[0])/1000; #seconds\n",
    "\t\t\tif rt > 0 and rt< 30:\n",
    "\t\t\t\toutFile.write('%2d,%8.6f,%5.3f,%2d\\n'%(int(d[3]),rt,reDict[d[1].strip()],int(d[2])))\n",
    "\t#Load hddm format\n",
    "\tdataW = hddm.load_csv('times_expW_rand_hddm.csv')\n",
    "\tdataW = hddm.utils.flip_errors(dataW)\n",
    "\n",
    "\treturn (data1,dataC,data2,dataW)"
   ]
  },
  {
   "cell_type": "code",
   "execution_count": 43,
   "metadata": {},
   "outputs": [],
   "source": [
    "data1,dataC,data2,dataW = loadData()"
   ]
  },
  {
   "cell_type": "code",
   "execution_count": 47,
   "metadata": {},
   "outputs": [
    {
     "data": {
      "text/plain": [
       "array(['MCC', 'PD', 'PC'], dtype=object)"
      ]
     },
     "execution_count": 47,
     "metadata": {},
     "output_type": "execute_result"
    }
   ],
   "source": [
    "data1.strategy.unique()\n",
    "\n",
    "#Pure defectors: PD\n",
    "#Pure cooperators: PC\n",
    "#Moody conditional cooperators: MCC"
   ]
  },
  {
   "cell_type": "code",
   "execution_count": 62,
   "metadata": {},
   "outputs": [
    {
     "data": {
      "text/plain": [
       "userid\n",
       "46      0\n",
       "35      0\n",
       "130     0\n",
       "144     0\n",
       "148     0\n",
       "124     0\n",
       "137     0\n",
       "154     0\n",
       "15      0\n",
       "72      0\n",
       "39      0\n",
       "84      0\n",
       "105     0\n",
       "76      0\n",
       "157     0\n",
       "43      1\n",
       "129     1\n",
       "99      1\n",
       "54      1\n",
       "159     2\n",
       "26      2\n",
       "60      2\n",
       "12      3\n",
       "19      3\n",
       "115     3\n",
       "63      3\n",
       "106     4\n",
       "45      4\n",
       "61      4\n",
       "42      4\n",
       "       ..\n",
       "166    21\n",
       "89     21\n",
       "116    22\n",
       "132    22\n",
       "122    22\n",
       "44     22\n",
       "28     22\n",
       "53     22\n",
       "101    23\n",
       "2      24\n",
       "169    24\n",
       "121    24\n",
       "149    25\n",
       "134    25\n",
       "158    25\n",
       "73     25\n",
       "58     25\n",
       "119    26\n",
       "139    29\n",
       "123    33\n",
       "111    33\n",
       "32     34\n",
       "146    35\n",
       "7      37\n",
       "168    40\n",
       "40     40\n",
       "120    41\n",
       "155    42\n",
       "150    46\n",
       "75     47\n",
       "Name: response, Length: 169, dtype: int64"
      ]
     },
     "execution_count": 62,
     "metadata": {},
     "output_type": "execute_result"
    }
   ],
   "source": [
    " \n",
    "data1.groupby([\"userid\"])['response'].sum().sort_values()"
   ]
  },
  {
   "cell_type": "code",
   "execution_count": 75,
   "metadata": {},
   "outputs": [
    {
     "data": {
      "text/plain": [
       "<matplotlib.axes._subplots.AxesSubplot at 0x1a1f2dcb90>"
      ]
     },
     "execution_count": 75,
     "metadata": {},
     "output_type": "execute_result"
    },
    {
     "data": {
      "image/png": "[encoded data removed]",
      "text/plain": [
       "<Figure size 1008x576 with 1 Axes>"
      ]
     },
     "metadata": {
      "needs_background": "light"
     },
     "output_type": "display_data"
    }
   ],
   "source": [
    "#Analysis per context \n",
    "no_coop = data1.loc[data1.context == 0]\n",
    "no_coop\n",
    "\n",
    "no_coop['response'].value_counts().plot(kind = \"bar\", figsize =(14, 8), title = \"Response distribution\")"
   ]
  },
  {
   "cell_type": "code",
   "execution_count": 82,
   "metadata": {},
   "outputs": [
    {
     "data": {
      "text/plain": [
       "<matplotlib.axes._subplots.AxesSubplot at 0x10c240490>"
      ]
     },
     "execution_count": 82,
     "metadata": {},
     "output_type": "execute_result"
    },
    {
     "data": {
      "image/png": "[encoded data removed]",
      "text/plain": [
       "<Figure size 1008x576 with 1 Axes>"
      ]
     },
     "metadata": {
      "needs_background": "light"
     },
     "output_type": "display_data"
    }
   ],
   "source": [
    "data1[['context', 'response', 'userid']].groupby(['context', 'response']).agg(\"count\").plot(kind = \"bar\", figsize = (14,8), title = \"Response distribution\")"
   ]
  },
  {
   "cell_type": "code",
   "execution_count": 86,
   "metadata": {},
   "outputs": [],
   "source": [
    "def roundModelGroup (data, column, window):\n",
    "    groups = list(data[column].unique())\n",
    "    print(groups)\n",
    "    modeler = ddm.HDDMmodelMaker()\n",
    "    st = time.time()\n",
    "    rounds = range(1, 48)\n",
    "    roundsDf = pd.DataFrame()\n",
    "    for g in groups:\n",
    "        df = data.loc[data[column]==g]\n",
    "        print (str(df[\"round\"].unique()))\n",
    "        for r in rounds:\n",
    "            try:\n",
    "                model = modeler.fit_model(df.loc[(df[\"round\"] >= r) & (df[\"round\"] <= ((r + window)))], 5000, 200)\n",
    "                print(\"\\nModel: %s, round %d, time: %f\\n\" % (g, r, time.time() - st))\n",
    "                modStats = modeler.get_stats(model)\n",
    "                modStats[\"round\"] = r\n",
    "                if r == 0:\n",
    "                    roundsDf = modStats\n",
    "                else:\n",
    "                    roundsDf = roundsDf.append(modStats, ignore_index = True)\n",
    "                if r%10 == 0:\n",
    "                    roundsDf.to_csv(\"./output/%s_rounds.csv\" % (g))\n",
    "            except: break\n",
    "        roundsDf.to_csv(\"./output/%s_rounds.csv\" % (g))"
   ]
  },
  {
   "cell_type": "code",
   "execution_count": 96,
   "metadata": {},
   "outputs": [],
   "source": [
    "def roundModel (data, window=0):\n",
    "    modeler = ddm.HDDMmodelMaker()\n",
    "    st = time.time()\n",
    "    rounds = range(1, 48)\n",
    "    roundsDf = pd.DataFrame()\n",
    "    df = data\n",
    "    for r in rounds:\n",
    "        try:\n",
    "            model = modeler.fit_model(df.loc[df[\"round\"] == r], 5000, 200)\n",
    "            print(\"\\nRound %d, time: %f\\n\" % (r, time.time() - st))\n",
    "            modStats = modeler.get_stats(model)\n",
    "            modStats[\"round\"] = r\n",
    "            if r == 0:\n",
    "                roundsDf = modStats\n",
    "            else:\n",
    "                roundsDf = roundsDf.append(modStats, ignore_index = True)\n",
    "            if r%10 == 0:\n",
    "                roundsDf.to_csv(\"./output/all_rounds.csv\")\n",
    "        except: break\n",
    "        roundsDf.to_csv(\"./output/all_rounds.csv\")"
   ]
  },
  {
   "cell_type": "code",
   "execution_count": null,
   "metadata": {},
   "outputs": [],
   "source": []
  },
  {
   "cell_type": "raw",
   "metadata": {},
   "source": []
  }
 ],
 "metadata": {
  "kernelspec": {
   "display_name": "decTimesEnv",
   "language": "python",
   "name": "dectimesenv"
  },
  "language_info": {
   "codemirror_mode": {
    "name": "ipython",
    "version": 2
   },
   "file_extension": ".py",
   "mimetype": "text/x-python",
   "name": "python",
   "nbconvert_exporter": "python",
   "pygments_lexer": "ipython2",
   "version": "2.7.17"
  }
 },
 "nbformat": 4,
 "nbformat_minor": 2
}
