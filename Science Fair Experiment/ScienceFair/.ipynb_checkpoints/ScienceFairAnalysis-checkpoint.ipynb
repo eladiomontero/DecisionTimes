{
 "cells": [
  {
   "cell_type": "code",
   "execution_count": 2,
   "metadata": {},
   "outputs": [],
   "source": [
    "import DataLoader as loader"
   ]
  },
  {
   "cell_type": "code",
   "execution_count": 3,
   "metadata": {},
   "outputs": [
    {
     "data": {
      "text/plain": [
       "(   round  response      rt       user  session           subj_id\n",
       " 0      1         1   6.332   usuario3  s3t1330   usuario3s3t1330\n",
       " 1      2         1  12.817   usuario3  s3t1330   usuario3s3t1330\n",
       " 2      3         1   6.144   usuario3  s3t1330   usuario3s3t1330\n",
       " 3      4         0   4.218   usuario3  s3t1330   usuario3s3t1330\n",
       " 4      5         0   5.595   usuario3  s3t1330   usuario3s3t1330\n",
       " ..   ...       ...     ...        ...      ...               ...\n",
       " 45    46         0  20.450  usuario21  s2t1200  usuario21s2t1200\n",
       " 46    47         0   3.831  usuario21  s2t1200  usuario21s2t1200\n",
       " 47    48         0   7.199  usuario21  s2t1200  usuario21s2t1200\n",
       " 48    49         0   6.946  usuario21  s2t1200  usuario21s2t1200\n",
       " 49    50         0   6.953  usuario21  s2t1200  usuario21s2t1200\n",
       " \n",
       " [6164 rows x 6 columns],    age  gender  session           subj_id       user\n",
       " 0   66  female  s3t1330   usuario2s3t1330   usuario2\n",
       " 1   40    male  s3t1330  usuario13s3t1330  usuario13\n",
       " 2   54    male  s3t1330  usuario11s3t1330  usuario11\n",
       " 3   13  female  s3t1330   usuario8s3t1330   usuario8\n",
       " 4   26    male  s3t1330  usuario19s3t1330  usuario19\n",
       " ..  ..     ...      ...               ...        ...\n",
       " 31  11    male  s2t1200  usuario14s2t1200  usuario14\n",
       " 32  11    male  s2t1200  usuario32s2t1200  usuario32\n",
       " 33  22    male  s2t1200  usuario20s2t1200  usuario20\n",
       " 34   8    male  s2t1200  usuario16s2t1200  usuario16\n",
       " 35  48  female  s2t1200   usuario7s2t1200   usuario7\n",
       " \n",
       " [130 rows x 5 columns])"
      ]
     },
     "execution_count": 3,
     "metadata": {},
     "output_type": "execute_result"
    }
   ],
   "source": [
    "dl = loader.DataLoader()\n",
    "dl.loadSessionsData()\n"
   ]
  },
  {
   "cell_type": "code",
   "execution_count": null,
   "metadata": {},
   "outputs": [],
   "source": []
  }
 ],
 "metadata": {
  "kernelspec": {
   "display_name": "Python 3",
   "language": "python",
   "name": "python3"
  },
  "language_info": {
   "codemirror_mode": {
    "name": "ipython",
    "version": 3
   },
   "file_extension": ".py",
   "mimetype": "text/x-python",
   "name": "python",
   "nbconvert_exporter": "python",
   "pygments_lexer": "ipython3",
   "version": "3.7.4"
  }
 },
 "nbformat": 4,
 "nbformat_minor": 2
}
