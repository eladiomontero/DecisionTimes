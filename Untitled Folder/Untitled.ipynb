{
 "cells": [
  {
   "cell_type": "code",
   "execution_count": 9,
   "metadata": {},
   "outputs": [],
   "source": [
    "import hddm\n",
    "from __future__ import print_function\n",
    "from ipywidgets import interact, interactive, fixed, interact_manual\n",
    "import ipywidgets as widgets\n",
    "import pandas as pd\n",
    "import matplotlib.pyplot as plt\n",
    "import numpy as np\n",
    "import scipy.stats as st"
   ]
  },
  {
   "cell_type": "code",
   "execution_count": 36,
   "metadata": {},
   "outputs": [],
   "source": [
    "data = pd.read_csv(\"decisions.csv\")"
   ]
  },
  {
   "cell_type": "code",
   "execution_count": 40,
   "metadata": {},
   "outputs": [
    {
     "data": {
      "text/plain": [
       "(array([158., 158., 162., 164.,  14., 172.,  21.,  31., 660.]),\n",
       " array([1.        , 1.88888889, 2.77777778, 3.66666667, 4.55555556,\n",
       "        5.44444444, 6.33333333, 7.22222222, 8.11111111, 9.        ]),\n",
       " <a list of 9 Patch objects>)"
      ]
     },
     "execution_count": 40,
     "metadata": {},
     "output_type": "execute_result"
    },
    {
     "data": {
      "image/png": "[encoded data removed]",
      "text/plain": [
       "<Figure size 432x288 with 1 Axes>"
      ]
     },
     "metadata": {
      "needs_background": "light"
     },
     "output_type": "display_data"
    }
   ],
   "source": [
    "plt.hist(data[\"Offer\"], bins = 9)"
   ]
  },
  {
   "cell_type": "code",
   "execution_count": 23,
   "metadata": {},
   "outputs": [
    {
     "data": {
      "text/plain": [
       "(-0.08601995554098239, 0.0007269955826183692)"
      ]
     },
     "execution_count": 23,
     "metadata": {},
     "output_type": "execute_result"
    }
   ],
   "source": [
    "st.pearsonr(data.RT, data.Offer)"
   ]
  },
  {
   "cell_type": "code",
   "execution_count": 25,
   "metadata": {},
   "outputs": [
    {
     "data": {
      "text/plain": [
       "<matplotlib.collections.PathCollection at 0x7f8da292fa90>"
      ]
     },
     "execution_count": 25,
     "metadata": {},
     "output_type": "execute_result"
    },
    {
     "data": {
      "image/png": "[encoded data removed]",
      "text/plain": [
       "<Figure size 432x288 with 1 Axes>"
      ]
     },
     "metadata": {
      "needs_background": "light"
     },
     "output_type": "display_data"
    }
   ],
   "source": [
    "plt.scatter(data.RT, data[\"SVO.Score\"])"
   ]
  },
  {
   "cell_type": "code",
   "execution_count": 38,
   "metadata": {},
   "outputs": [],
   "source": [
    "data[\"response\"] = 0\n",
    "data.loc[data.Decision == \"Acc\", \"response\"] = 1\n",
    "data.rename(columns={'RT': 'rt', \"Code\": \"user\"}, inplace=True)\n",
    "data[\"rt\"] = data[\"rt\"]\n",
    "data = hddm.utils.flip_errors(data)"
   ]
  },
  {
   "cell_type": "code",
   "execution_count": 63,
   "metadata": {},
   "outputs": [
    {
     "data": {
      "text/plain": [
       "(94, 8)"
      ]
     },
     "metadata": {},
     "output_type": "display_data"
    },
    {
     "data": {
      "text/plain": [
       "(24, 8)"
      ]
     },
     "metadata": {},
     "output_type": "display_data"
    },
    {
     "data": {
      "text/plain": [
       "(131, 8)"
      ]
     },
     "metadata": {},
     "output_type": "display_data"
    },
    {
     "data": {
      "text/plain": [
       "(31, 8)"
      ]
     },
     "metadata": {},
     "output_type": "display_data"
    }
   ],
   "source": [
    "pro_soc_fair = data.loc[(data.Condition == \"Control\") & (data[\"SVO.Score\"] >= 23) & (data[\"Offer\"] >= 8)]\n",
    "pro_soc_unf = data.loc[(data.Condition == \"Control\") & (data[\"SVO.Score\"] >= 23) & (data[\"Offer\"] < 2)]\n",
    "pro_sel_fair = data.loc[(data.Condition == \"Control\") & (data[\"SVO.Score\"] < 23) & (data[\"Offer\"] >= 8)]\n",
    "pro_sel_unf = data.loc[(data.Condition == \"Control\") & (data[\"SVO.Score\"] < 23) & (data[\"Offer\"] < 2)]\n",
    "\n",
    "display(pro_soc_fair.shape)\n",
    "display(pro_soc_unf.shape)\n",
    "display(pro_sel_fair.shape)\n",
    "display(pro_sel_unf.shape)"
   ]
  },
  {
   "cell_type": "code",
   "execution_count": 68,
   "metadata": {},
   "outputs": [
    {
     "name": "stdout",
     "output_type": "stream",
     "text": [
      " [-----------------100%-----------------] 5000 of 5000 complete in 12.5 sec"
     ]
    }
   ],
   "source": [
    "soc = []\n",
    "sel = []\n",
    "for i in range(1, 10):\n",
    "    pro_soc = data.loc[(data.Condition == \"Control\") & (data[\"SVO.Score\"] >= 23) & (data[\"Offer\"] == i)]\n",
    "    pro_sel = data.loc[(data.Condition == \"Control\") & (data[\"SVO.Score\"] < 23) & (data[\"Offer\"] == i)]\n",
    "    model = hddm.HDDM(pro_soc, bias = True)\n",
    "    model.sample(5000, burn = 2000)\n",
    "    soc.append(model)\n",
    "    model = hddm.HDDM(pro_sel, bias = True)\n",
    "    model.sample(5000, burn = 2000)\n",
    "    sel.append(model)"
   ]
  },
  {
   "cell_type": "code",
   "execution_count": 72,
   "metadata": {},
   "outputs": [
    {
     "name": "stdout",
     "output_type": "stream",
     "text": [
      "a     6.04432\n",
      "v    -0.52752\n",
      "t    0.606352\n",
      "z    0.635687\n",
      "Name: mean, dtype: object\n",
      "a     6.32318\n",
      "v   -0.373488\n",
      "t    0.557187\n",
      "z    0.615528\n",
      "Name: mean, dtype: object\n",
      "a     5.79707\n",
      "v   -0.363452\n",
      "t    0.611192\n",
      "z    0.608114\n",
      "Name: mean, dtype: object\n",
      "a      5.46117\n",
      "v    0.0322019\n",
      "t     0.543544\n",
      "z     0.497936\n",
      "Name: mean, dtype: object\n",
      "a     3.86396\n",
      "v    0.123462\n",
      "t    0.460648\n",
      "z    0.492048\n",
      "Name: mean, dtype: object\n",
      "a     6.51667\n",
      "v    0.124929\n",
      "t    0.534547\n",
      "z    0.514968\n",
      "Name: mean, dtype: object\n",
      "a     4.20532\n",
      "v    0.476328\n",
      "t    0.475766\n",
      "z    0.458715\n",
      "Name: mean, dtype: object\n",
      "a     5.81326\n",
      "v    0.410755\n",
      "t    0.457803\n",
      "z    0.457282\n",
      "Name: mean, dtype: object\n",
      "a     7.70949\n",
      "v    0.691957\n",
      "t    0.700527\n",
      "z    0.421862\n",
      "Name: mean, dtype: object\n"
     ]
    }
   ],
   "source": [
    "for s in soc:\n",
    "    print(s.gen_stats()[\"mean\"])\n",
    "    "
   ]
  },
  {
   "cell_type": "code",
   "execution_count": 73,
   "metadata": {},
   "outputs": [
    {
     "name": "stdout",
     "output_type": "stream",
     "text": [
      "a     5.63273\n",
      "v   -0.345299\n",
      "t    0.841509\n",
      "z    0.583967\n",
      "Name: mean, dtype: object\n",
      "a     6.01794\n",
      "v   -0.180109\n",
      "t    0.705075\n",
      "z    0.538571\n",
      "Name: mean, dtype: object\n",
      "a      5.5418\n",
      "v   -0.227263\n",
      "t    0.661548\n",
      "z    0.577897\n",
      "Name: mean, dtype: object\n",
      "a       4.90832\n",
      "v   -0.00909627\n",
      "t      0.890627\n",
      "z      0.528508\n",
      "Name: mean, dtype: object\n",
      "a     3.58457\n",
      "v    0.147813\n",
      "t    0.464233\n",
      "z    0.502655\n",
      "Name: mean, dtype: object\n",
      "a      6.60126\n",
      "v    0.0989739\n",
      "t     0.640866\n",
      "z     0.468657\n",
      "Name: mean, dtype: object\n",
      "a     4.25655\n",
      "v    0.234356\n",
      "t    0.467244\n",
      "z    0.490777\n",
      "Name: mean, dtype: object\n",
      "a     4.80447\n",
      "v    0.531994\n",
      "t    0.499468\n",
      "z    0.430991\n",
      "Name: mean, dtype: object\n",
      "a     7.61155\n",
      "v    0.657447\n",
      "t    0.492614\n",
      "z    0.464928\n",
      "Name: mean, dtype: object\n"
     ]
    }
   ],
   "source": [
    "for s in sel:\n",
    "    print(s.gen_stats()[\"mean\"])"
   ]
  },
  {
   "cell_type": "code",
   "execution_count": 66,
   "metadata": {},
   "outputs": [
    {
     "name": "stdout",
     "output_type": "stream",
     "text": [
      " [-----------------100%-----------------] 5000 of 5000 complete in 12.7 sec"
     ]
    },
    {
     "data": {
      "text/html": [
       "<div>\n",
       "<style scoped>\n",
       "    .dataframe tbody tr th:only-of-type {\n",
       "        vertical-align: middle;\n",
       "    }\n",
       "\n",
       "    .dataframe tbody tr th {\n",
       "        vertical-align: top;\n",
       "    }\n",
       "\n",
       "    .dataframe thead th {\n",
       "        text-align: right;\n",
       "    }\n",
       "</style>\n",
       "<table border=\"1\" class=\"dataframe\">\n",
       "  <thead>\n",
       "    <tr style=\"text-align: right;\">\n",
       "      <th></th>\n",
       "      <th>mean</th>\n",
       "      <th>std</th>\n",
       "      <th>2.5q</th>\n",
       "      <th>25q</th>\n",
       "      <th>50q</th>\n",
       "      <th>75q</th>\n",
       "      <th>97.5q</th>\n",
       "      <th>mc err</th>\n",
       "    </tr>\n",
       "  </thead>\n",
       "  <tbody>\n",
       "    <tr>\n",
       "      <th>a</th>\n",
       "      <td>7.6471</td>\n",
       "      <td>0.682563</td>\n",
       "      <td>6.4993</td>\n",
       "      <td>7.18009</td>\n",
       "      <td>7.57846</td>\n",
       "      <td>8.0295</td>\n",
       "      <td>9.24765</td>\n",
       "      <td>0.0292337</td>\n",
       "    </tr>\n",
       "    <tr>\n",
       "      <th>v</th>\n",
       "      <td>0.664675</td>\n",
       "      <td>0.0566313</td>\n",
       "      <td>0.552976</td>\n",
       "      <td>0.627249</td>\n",
       "      <td>0.664942</td>\n",
       "      <td>0.703409</td>\n",
       "      <td>0.77698</td>\n",
       "      <td>0.00151978</td>\n",
       "    </tr>\n",
       "    <tr>\n",
       "      <th>t</th>\n",
       "      <td>0.50477</td>\n",
       "      <td>0.213727</td>\n",
       "      <td>0.151432</td>\n",
       "      <td>0.34342</td>\n",
       "      <td>0.485569</td>\n",
       "      <td>0.648343</td>\n",
       "      <td>0.969136</td>\n",
       "      <td>0.00657469</td>\n",
       "    </tr>\n",
       "    <tr>\n",
       "      <th>z</th>\n",
       "      <td>0.466525</td>\n",
       "      <td>0.0515305</td>\n",
       "      <td>0.367233</td>\n",
       "      <td>0.430317</td>\n",
       "      <td>0.465919</td>\n",
       "      <td>0.502422</td>\n",
       "      <td>0.565732</td>\n",
       "      <td>0.0022472</td>\n",
       "    </tr>\n",
       "  </tbody>\n",
       "</table>\n",
       "</div>"
      ],
      "text/plain": [
       "       mean        std      2.5q       25q       50q       75q     97.5q  \\\n",
       "a    7.6471   0.682563    6.4993   7.18009   7.57846    8.0295   9.24765   \n",
       "v  0.664675  0.0566313  0.552976  0.627249  0.664942  0.703409   0.77698   \n",
       "t   0.50477   0.213727  0.151432   0.34342  0.485569  0.648343  0.969136   \n",
       "z  0.466525  0.0515305  0.367233  0.430317  0.465919  0.502422  0.565732   \n",
       "\n",
       "       mc err  \n",
       "a   0.0292337  \n",
       "v  0.00151978  \n",
       "t  0.00657469  \n",
       "z   0.0022472  "
      ]
     },
     "execution_count": 66,
     "metadata": {},
     "output_type": "execute_result"
    }
   ],
   "source": [
    "model = hddm.HDDM(pro_sel_fair, bias = True)\n",
    "model.sample(5000, burn = 200)\n",
    "model.gen_stats()"
   ]
  },
  {
   "cell_type": "code",
   "execution_count": 67,
   "metadata": {},
   "outputs": [
    {
     "name": "stdout",
     "output_type": "stream",
     "text": [
      " [-----------------100%-----------------] 5000 of 5000 complete in 16.9 sec"
     ]
    },
    {
     "data": {
      "text/html": [
       "<div>\n",
       "<style scoped>\n",
       "    .dataframe tbody tr th:only-of-type {\n",
       "        vertical-align: middle;\n",
       "    }\n",
       "\n",
       "    .dataframe tbody tr th {\n",
       "        vertical-align: top;\n",
       "    }\n",
       "\n",
       "    .dataframe thead th {\n",
       "        text-align: right;\n",
       "    }\n",
       "</style>\n",
       "<table border=\"1\" class=\"dataframe\">\n",
       "  <thead>\n",
       "    <tr style=\"text-align: right;\">\n",
       "      <th></th>\n",
       "      <th>mean</th>\n",
       "      <th>std</th>\n",
       "      <th>2.5q</th>\n",
       "      <th>25q</th>\n",
       "      <th>50q</th>\n",
       "      <th>75q</th>\n",
       "      <th>97.5q</th>\n",
       "      <th>mc err</th>\n",
       "    </tr>\n",
       "  </thead>\n",
       "  <tbody>\n",
       "    <tr>\n",
       "      <th>a</th>\n",
       "      <td>5.62412</td>\n",
       "      <td>0.504652</td>\n",
       "      <td>4.68085</td>\n",
       "      <td>5.27437</td>\n",
       "      <td>5.60521</td>\n",
       "      <td>5.95689</td>\n",
       "      <td>6.63919</td>\n",
       "      <td>0.00970806</td>\n",
       "    </tr>\n",
       "    <tr>\n",
       "      <th>v</th>\n",
       "      <td>-0.348551</td>\n",
       "      <td>0.0932528</td>\n",
       "      <td>-0.532221</td>\n",
       "      <td>-0.408825</td>\n",
       "      <td>-0.347923</td>\n",
       "      <td>-0.287112</td>\n",
       "      <td>-0.166628</td>\n",
       "      <td>0.00190952</td>\n",
       "    </tr>\n",
       "    <tr>\n",
       "      <th>t</th>\n",
       "      <td>0.843798</td>\n",
       "      <td>0.431734</td>\n",
       "      <td>0.23199</td>\n",
       "      <td>0.519779</td>\n",
       "      <td>0.766068</td>\n",
       "      <td>1.08697</td>\n",
       "      <td>1.85414</td>\n",
       "      <td>0.00830116</td>\n",
       "    </tr>\n",
       "    <tr>\n",
       "      <th>z</th>\n",
       "      <td>0.585332</td>\n",
       "      <td>0.0609773</td>\n",
       "      <td>0.463955</td>\n",
       "      <td>0.54567</td>\n",
       "      <td>0.586058</td>\n",
       "      <td>0.627541</td>\n",
       "      <td>0.701175</td>\n",
       "      <td>0.00124115</td>\n",
       "    </tr>\n",
       "  </tbody>\n",
       "</table>\n",
       "</div>"
      ],
      "text/plain": [
       "       mean        std      2.5q       25q       50q       75q     97.5q  \\\n",
       "a   5.62412   0.504652   4.68085   5.27437   5.60521   5.95689   6.63919   \n",
       "v -0.348551  0.0932528 -0.532221 -0.408825 -0.347923 -0.287112 -0.166628   \n",
       "t  0.843798   0.431734   0.23199  0.519779  0.766068   1.08697   1.85414   \n",
       "z  0.585332  0.0609773  0.463955   0.54567  0.586058  0.627541  0.701175   \n",
       "\n",
       "       mc err  \n",
       "a  0.00970806  \n",
       "v  0.00190952  \n",
       "t  0.00830116  \n",
       "z  0.00124115  "
      ]
     },
     "execution_count": 67,
     "metadata": {},
     "output_type": "execute_result"
    }
   ],
   "source": [
    "model = hddm.HDDM(pro_sel_unf, bias = True)\n",
    "model.sample(5000, burn = 200)\n",
    "model.gen_stats()"
   ]
  },
  {
   "cell_type": "code",
   "execution_count": null,
   "metadata": {},
   "outputs": [],
   "source": []
  }
 ],
 "metadata": {
  "kernelspec": {
   "display_name": "decTimesEnv",
   "language": "python",
   "name": "dectimesenv"
  },
  "language_info": {
   "codemirror_mode": {
    "name": "ipython",
    "version": 2
   },
   "file_extension": ".py",
   "mimetype": "text/x-python",
   "name": "python",
   "nbconvert_exporter": "python",
   "pygments_lexer": "ipython2",
   "version": "2.7.17"
  }
 },
 "nbformat": 4,
 "nbformat_minor": 2
}
